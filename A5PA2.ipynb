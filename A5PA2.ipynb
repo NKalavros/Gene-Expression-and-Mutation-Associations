{
 "cells": [
  {
   "cell_type": "code",
   "execution_count": 73,
   "metadata": {},
   "outputs": [
    {
     "name": "stdout",
     "output_type": "stream",
     "text": [
      "1.0 5.0 4.0 3.0\n"
     ]
    }
   ],
   "source": [
    "#Uses Python3\n",
    "import numpy as np\n",
    "import sys\n",
    "from operator import methodcaller\n",
    "\n",
    "if __name__ == \"__main__\":\n",
    "    data = sys.stdin.read().splitlines()\n",
    "    data = data[1:]\n",
    "    data = list(map(methodcaller(\"split\",\" \"),data))\n",
    "    data = np.array(data, dtype = \"float\")\n",
    "    a = data[:,0:data.shape[1]-1]\n",
    "    b = data[:,data.shape[1]-1:data.shape[1]]\n",
    "    solution = np.linalg.solve(a,b)\n",
    "    solution = solution.tostring()\n",
    "    solution = np.frombuffer(solution,dtype = \"float\")\n",
    "    solution = list(map(str,solution))\n",
    "    print(\" \".join(solution))\n",
    "    "
   ]
  }
 ],
 "metadata": {
  "kernelspec": {
   "display_name": "Python 3",
   "language": "python",
   "name": "python3"
  },
  "language_info": {
   "codemirror_mode": {
    "name": "ipython",
    "version": 3
   },
   "file_extension": ".py",
   "mimetype": "text/x-python",
   "name": "python",
   "nbconvert_exporter": "python",
   "pygments_lexer": "ipython3",
   "version": "3.7.1"
  }
 },
 "nbformat": 4,
 "nbformat_minor": 2
}
